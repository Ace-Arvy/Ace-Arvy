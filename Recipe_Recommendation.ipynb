{
  "nbformat": 4,
  "nbformat_minor": 0,
  "metadata": {
    "colab": {
      "provenance": [],
      "authorship_tag": "ABX9TyM2Ehm6Rt+xGlUEnQmBgs9j",
      "include_colab_link": true
    },
    "kernelspec": {
      "name": "python3",
      "display_name": "Python 3"
    },
    "language_info": {
      "name": "python"
    }
  },
  "cells": [
    {
      "cell_type": "markdown",
      "metadata": {
        "id": "view-in-github",
        "colab_type": "text"
      },
      "source": [
        "<a href=\"https://colab.research.google.com/github/Ace-Arvy/Ace-Arvy/blob/main/Recipe_Recommendation.ipynb\" target=\"_parent\"><img src=\"https://colab.research.google.com/assets/colab-badge.svg\" alt=\"Open In Colab\"/></a>"
      ]
    },
    {
      "cell_type": "code",
      "execution_count": null,
      "metadata": {
        "colab": {
          "base_uri": "https://localhost:8080/"
        },
        "id": "ube1qj4jCpFD",
        "outputId": "ac9e508a-582e-47b2-d8f8-0a8622f55456"
      },
      "outputs": [
        {
          "output_type": "stream",
          "name": "stdout",
          "text": [
            "\u001b[?25l     \u001b[90m━━━━━━━━━━━━━━━━━━━━━━━━━━━━━━━━━━━━━━━━\u001b[0m \u001b[32m0.0/154.4 kB\u001b[0m \u001b[31m?\u001b[0m eta \u001b[36m-:--:--\u001b[0m\r\u001b[2K     \u001b[91m━━━━━━━━━━━━━━━━━━━━━━━━━━━━━━━━━━━━━━━\u001b[0m\u001b[91m╸\u001b[0m \u001b[32m153.6/154.4 kB\u001b[0m \u001b[31m6.2 MB/s\u001b[0m eta \u001b[36m0:00:01\u001b[0m\r\u001b[2K     \u001b[90m━━━━━━━━━━━━━━━━━━━━━━━━━━━━━━━━━━━━━━━━\u001b[0m \u001b[32m154.4/154.4 kB\u001b[0m \u001b[31m3.9 MB/s\u001b[0m eta \u001b[36m0:00:00\u001b[0m\n",
            "\u001b[?25h  Installing build dependencies ... \u001b[?25l\u001b[?25hdone\n",
            "  Getting requirements to build wheel ... \u001b[?25l\u001b[?25hdone\n",
            "  Preparing metadata (pyproject.toml) ... \u001b[?25l\u001b[?25hdone\n",
            "  Building wheel for scikit-surprise (pyproject.toml) ... \u001b[?25l\u001b[?25hdone\n"
          ]
        },
        {
          "output_type": "stream",
          "name": "stderr",
          "text": [
            "[nltk_data] Downloading package stopwords to /root/nltk_data...\n",
            "[nltk_data]   Unzipping corpora/stopwords.zip.\n",
            "[nltk_data] Downloading package punkt to /root/nltk_data...\n",
            "[nltk_data]   Unzipping tokenizers/punkt.zip.\n"
          ]
        },
        {
          "output_type": "stream",
          "name": "stdout",
          "text": [
            "Environment ready!\n"
          ]
        }
      ],
      "source": [
        "# Install required libraries\n",
        "!pip install kaggle --quiet\n",
        "!pip install surprise --quiet  # Collaborative filtering\n",
        "!pip install nltk --quiet  # NLP processing\n",
        "\n",
        "# Import libraries\n",
        "import pandas as pd\n",
        "import numpy as np\n",
        "from sklearn.feature_extraction.text import TfidfVectorizer\n",
        "from sklearn.metrics.pairwise import cosine_similarity\n",
        "from surprise import Dataset, Reader, SVD\n",
        "from surprise.model_selection import cross_validate\n",
        "import nltk\n",
        "from nltk.corpus import stopwords\n",
        "from nltk.tokenize import word_tokenize\n",
        "import json\n",
        "import os\n",
        "\n",
        "# Download NLTK data\n",
        "nltk.download('stopwords')\n",
        "nltk.download('punkt')\n",
        "\n",
        "print(\"Environment ready!\")"
      ]
    },
    {
      "cell_type": "code",
      "source": [
        "# Upload CSV files\n",
        "from google.colab import files\n",
        "\n",
        "print(\"Upload interactions_train.csv, interactions_validation.csv, interactions_test.csv\")\n",
        "print(\"Also upload PP_recipes.csv and PP_users.csv\")\n",
        "uploaded = files.upload()\n",
        "\n",
        "# Load interactions datasets\n",
        "interactions_train = pd.read_csv(\"interactions_train.csv\")\n",
        "interactions_validation = pd.read_csv(\"interactions_validation.csv\")\n",
        "interactions_test = pd.read_csv(\"interactions_test.csv\")\n",
        "\n",
        "# Load preprocessed metadata\n",
        "pp_recipes = pd.read_csv(\"PP_recipes.csv\")\n",
        "pp_users = pd.read_csv(\"PP_users.csv\")\n",
        "\n",
        "# Convert to pickle\n",
        "interactions_train.to_pickle(\"data/interactions_train.pkl\")\n",
        "interactions_validation.to_pickle(\"data/interactions_validation.pkl\")\n",
        "interactions_test.to_pickle(\"data/interactions_test.pkl\")\n",
        "pp_recipes.to_pickle(\"data/PP_recipes.pkl\")\n",
        "pp_users.to_pickle(\"data/PP_users.pkl\")\n",
        "\n",
        "print(\"Conversion to pickle format complete!\")"
      ],
      "metadata": {
        "colab": {
          "base_uri": "https://localhost:8080/",
          "height": 953
        },
        "id": "93DSuoRbSVPR",
        "outputId": "e69849f6-cef8-484d-d6d6-3b3b6f55e7bd"
      },
      "execution_count": 8,
      "outputs": [
        {
          "output_type": "stream",
          "name": "stdout",
          "text": [
            "Upload interactions_train.csv, interactions_validation.csv, interactions_test.csv\n",
            "Also upload PP_recipes.csv and PP_users.csv\n"
          ]
        },
        {
          "output_type": "display_data",
          "data": {
            "text/plain": [
              "<IPython.core.display.HTML object>"
            ],
            "text/html": [
              "\n",
              "     <input type=\"file\" id=\"files-b4fa87cc-323e-45bc-a880-2dfb8a5803f6\" name=\"files[]\" multiple disabled\n",
              "        style=\"border:none\" />\n",
              "     <output id=\"result-b4fa87cc-323e-45bc-a880-2dfb8a5803f6\">\n",
              "      Upload widget is only available when the cell has been executed in the\n",
              "      current browser session. Please rerun this cell to enable.\n",
              "      </output>\n",
              "      <script>// Copyright 2017 Google LLC\n",
              "//\n",
              "// Licensed under the Apache License, Version 2.0 (the \"License\");\n",
              "// you may not use this file except in compliance with the License.\n",
              "// You may obtain a copy of the License at\n",
              "//\n",
              "//      http://www.apache.org/licenses/LICENSE-2.0\n",
              "//\n",
              "// Unless required by applicable law or agreed to in writing, software\n",
              "// distributed under the License is distributed on an \"AS IS\" BASIS,\n",
              "// WITHOUT WARRANTIES OR CONDITIONS OF ANY KIND, either express or implied.\n",
              "// See the License for the specific language governing permissions and\n",
              "// limitations under the License.\n",
              "\n",
              "/**\n",
              " * @fileoverview Helpers for google.colab Python module.\n",
              " */\n",
              "(function(scope) {\n",
              "function span(text, styleAttributes = {}) {\n",
              "  const element = document.createElement('span');\n",
              "  element.textContent = text;\n",
              "  for (const key of Object.keys(styleAttributes)) {\n",
              "    element.style[key] = styleAttributes[key];\n",
              "  }\n",
              "  return element;\n",
              "}\n",
              "\n",
              "// Max number of bytes which will be uploaded at a time.\n",
              "const MAX_PAYLOAD_SIZE = 100 * 1024;\n",
              "\n",
              "function _uploadFiles(inputId, outputId) {\n",
              "  const steps = uploadFilesStep(inputId, outputId);\n",
              "  const outputElement = document.getElementById(outputId);\n",
              "  // Cache steps on the outputElement to make it available for the next call\n",
              "  // to uploadFilesContinue from Python.\n",
              "  outputElement.steps = steps;\n",
              "\n",
              "  return _uploadFilesContinue(outputId);\n",
              "}\n",
              "\n",
              "// This is roughly an async generator (not supported in the browser yet),\n",
              "// where there are multiple asynchronous steps and the Python side is going\n",
              "// to poll for completion of each step.\n",
              "// This uses a Promise to block the python side on completion of each step,\n",
              "// then passes the result of the previous step as the input to the next step.\n",
              "function _uploadFilesContinue(outputId) {\n",
              "  const outputElement = document.getElementById(outputId);\n",
              "  const steps = outputElement.steps;\n",
              "\n",
              "  const next = steps.next(outputElement.lastPromiseValue);\n",
              "  return Promise.resolve(next.value.promise).then((value) => {\n",
              "    // Cache the last promise value to make it available to the next\n",
              "    // step of the generator.\n",
              "    outputElement.lastPromiseValue = value;\n",
              "    return next.value.response;\n",
              "  });\n",
              "}\n",
              "\n",
              "/**\n",
              " * Generator function which is called between each async step of the upload\n",
              " * process.\n",
              " * @param {string} inputId Element ID of the input file picker element.\n",
              " * @param {string} outputId Element ID of the output display.\n",
              " * @return {!Iterable<!Object>} Iterable of next steps.\n",
              " */\n",
              "function* uploadFilesStep(inputId, outputId) {\n",
              "  const inputElement = document.getElementById(inputId);\n",
              "  inputElement.disabled = false;\n",
              "\n",
              "  const outputElement = document.getElementById(outputId);\n",
              "  outputElement.innerHTML = '';\n",
              "\n",
              "  const pickedPromise = new Promise((resolve) => {\n",
              "    inputElement.addEventListener('change', (e) => {\n",
              "      resolve(e.target.files);\n",
              "    });\n",
              "  });\n",
              "\n",
              "  const cancel = document.createElement('button');\n",
              "  inputElement.parentElement.appendChild(cancel);\n",
              "  cancel.textContent = 'Cancel upload';\n",
              "  const cancelPromise = new Promise((resolve) => {\n",
              "    cancel.onclick = () => {\n",
              "      resolve(null);\n",
              "    };\n",
              "  });\n",
              "\n",
              "  // Wait for the user to pick the files.\n",
              "  const files = yield {\n",
              "    promise: Promise.race([pickedPromise, cancelPromise]),\n",
              "    response: {\n",
              "      action: 'starting',\n",
              "    }\n",
              "  };\n",
              "\n",
              "  cancel.remove();\n",
              "\n",
              "  // Disable the input element since further picks are not allowed.\n",
              "  inputElement.disabled = true;\n",
              "\n",
              "  if (!files) {\n",
              "    return {\n",
              "      response: {\n",
              "        action: 'complete',\n",
              "      }\n",
              "    };\n",
              "  }\n",
              "\n",
              "  for (const file of files) {\n",
              "    const li = document.createElement('li');\n",
              "    li.append(span(file.name, {fontWeight: 'bold'}));\n",
              "    li.append(span(\n",
              "        `(${file.type || 'n/a'}) - ${file.size} bytes, ` +\n",
              "        `last modified: ${\n",
              "            file.lastModifiedDate ? file.lastModifiedDate.toLocaleDateString() :\n",
              "                                    'n/a'} - `));\n",
              "    const percent = span('0% done');\n",
              "    li.appendChild(percent);\n",
              "\n",
              "    outputElement.appendChild(li);\n",
              "\n",
              "    const fileDataPromise = new Promise((resolve) => {\n",
              "      const reader = new FileReader();\n",
              "      reader.onload = (e) => {\n",
              "        resolve(e.target.result);\n",
              "      };\n",
              "      reader.readAsArrayBuffer(file);\n",
              "    });\n",
              "    // Wait for the data to be ready.\n",
              "    let fileData = yield {\n",
              "      promise: fileDataPromise,\n",
              "      response: {\n",
              "        action: 'continue',\n",
              "      }\n",
              "    };\n",
              "\n",
              "    // Use a chunked sending to avoid message size limits. See b/62115660.\n",
              "    let position = 0;\n",
              "    do {\n",
              "      const length = Math.min(fileData.byteLength - position, MAX_PAYLOAD_SIZE);\n",
              "      const chunk = new Uint8Array(fileData, position, length);\n",
              "      position += length;\n",
              "\n",
              "      const base64 = btoa(String.fromCharCode.apply(null, chunk));\n",
              "      yield {\n",
              "        response: {\n",
              "          action: 'append',\n",
              "          file: file.name,\n",
              "          data: base64,\n",
              "        },\n",
              "      };\n",
              "\n",
              "      let percentDone = fileData.byteLength === 0 ?\n",
              "          100 :\n",
              "          Math.round((position / fileData.byteLength) * 100);\n",
              "      percent.textContent = `${percentDone}% done`;\n",
              "\n",
              "    } while (position < fileData.byteLength);\n",
              "  }\n",
              "\n",
              "  // All done.\n",
              "  yield {\n",
              "    response: {\n",
              "      action: 'complete',\n",
              "    }\n",
              "  };\n",
              "}\n",
              "\n",
              "scope.google = scope.google || {};\n",
              "scope.google.colab = scope.google.colab || {};\n",
              "scope.google.colab._files = {\n",
              "  _uploadFiles,\n",
              "  _uploadFilesContinue,\n",
              "};\n",
              "})(self);\n",
              "</script> "
            ]
          },
          "metadata": {}
        },
        {
          "output_type": "stream",
          "name": "stdout",
          "text": [
            "Saving interactions_train.csv to interactions_train.csv\n",
            "Saving interactions_test.csv to interactions_test.csv\n",
            "Saving interactions_validation.csv to interactions_validation.csv\n",
            "Saving PP_recipes.csv to PP_recipes.csv\n",
            "Saving PP_users.csv to PP_users.csv\n"
          ]
        },
        {
          "output_type": "error",
          "ename": "OSError",
          "evalue": "Cannot save file into a non-existent directory: 'data'",
          "traceback": [
            "\u001b[0;31m---------------------------------------------------------------------------\u001b[0m",
            "\u001b[0;31mOSError\u001b[0m                                   Traceback (most recent call last)",
            "\u001b[0;32m<ipython-input-8-c57b89a56231>\u001b[0m in \u001b[0;36m<cell line: 18>\u001b[0;34m()\u001b[0m\n\u001b[1;32m     16\u001b[0m \u001b[0;34m\u001b[0m\u001b[0m\n\u001b[1;32m     17\u001b[0m \u001b[0;31m# Convert to pickle\u001b[0m\u001b[0;34m\u001b[0m\u001b[0;34m\u001b[0m\u001b[0m\n\u001b[0;32m---> 18\u001b[0;31m \u001b[0minteractions_train\u001b[0m\u001b[0;34m.\u001b[0m\u001b[0mto_pickle\u001b[0m\u001b[0;34m(\u001b[0m\u001b[0;34m\"data/interactions_train.pkl\"\u001b[0m\u001b[0;34m)\u001b[0m\u001b[0;34m\u001b[0m\u001b[0;34m\u001b[0m\u001b[0m\n\u001b[0m\u001b[1;32m     19\u001b[0m \u001b[0minteractions_validation\u001b[0m\u001b[0;34m.\u001b[0m\u001b[0mto_pickle\u001b[0m\u001b[0;34m(\u001b[0m\u001b[0;34m\"data/interactions_validation.pkl\"\u001b[0m\u001b[0;34m)\u001b[0m\u001b[0;34m\u001b[0m\u001b[0;34m\u001b[0m\u001b[0m\n\u001b[1;32m     20\u001b[0m \u001b[0minteractions_test\u001b[0m\u001b[0;34m.\u001b[0m\u001b[0mto_pickle\u001b[0m\u001b[0;34m(\u001b[0m\u001b[0;34m\"data/interactions_test.pkl\"\u001b[0m\u001b[0;34m)\u001b[0m\u001b[0;34m\u001b[0m\u001b[0;34m\u001b[0m\u001b[0m\n",
            "\u001b[0;32m/usr/local/lib/python3.10/dist-packages/pandas/util/_decorators.py\u001b[0m in \u001b[0;36mwrapper\u001b[0;34m(*args, **kwargs)\u001b[0m\n\u001b[1;32m    331\u001b[0m                     \u001b[0mstacklevel\u001b[0m\u001b[0;34m=\u001b[0m\u001b[0mfind_stack_level\u001b[0m\u001b[0;34m(\u001b[0m\u001b[0;34m)\u001b[0m\u001b[0;34m,\u001b[0m\u001b[0;34m\u001b[0m\u001b[0;34m\u001b[0m\u001b[0m\n\u001b[1;32m    332\u001b[0m                 )\n\u001b[0;32m--> 333\u001b[0;31m             \u001b[0;32mreturn\u001b[0m \u001b[0mfunc\u001b[0m\u001b[0;34m(\u001b[0m\u001b[0;34m*\u001b[0m\u001b[0margs\u001b[0m\u001b[0;34m,\u001b[0m \u001b[0;34m**\u001b[0m\u001b[0mkwargs\u001b[0m\u001b[0;34m)\u001b[0m\u001b[0;34m\u001b[0m\u001b[0;34m\u001b[0m\u001b[0m\n\u001b[0m\u001b[1;32m    334\u001b[0m \u001b[0;34m\u001b[0m\u001b[0m\n\u001b[1;32m    335\u001b[0m         \u001b[0;31m# error: \"Callable[[VarArg(Any), KwArg(Any)], Any]\" has no\u001b[0m\u001b[0;34m\u001b[0m\u001b[0;34m\u001b[0m\u001b[0m\n",
            "\u001b[0;32m/usr/local/lib/python3.10/dist-packages/pandas/core/generic.py\u001b[0m in \u001b[0;36mto_pickle\u001b[0;34m(self, path, compression, protocol, storage_options)\u001b[0m\n\u001b[1;32m   3163\u001b[0m         \u001b[0;32mfrom\u001b[0m \u001b[0mpandas\u001b[0m\u001b[0;34m.\u001b[0m\u001b[0mio\u001b[0m\u001b[0;34m.\u001b[0m\u001b[0mpickle\u001b[0m \u001b[0;32mimport\u001b[0m \u001b[0mto_pickle\u001b[0m\u001b[0;34m\u001b[0m\u001b[0;34m\u001b[0m\u001b[0m\n\u001b[1;32m   3164\u001b[0m \u001b[0;34m\u001b[0m\u001b[0m\n\u001b[0;32m-> 3165\u001b[0;31m         to_pickle(\n\u001b[0m\u001b[1;32m   3166\u001b[0m             \u001b[0mself\u001b[0m\u001b[0;34m,\u001b[0m\u001b[0;34m\u001b[0m\u001b[0;34m\u001b[0m\u001b[0m\n\u001b[1;32m   3167\u001b[0m             \u001b[0mpath\u001b[0m\u001b[0;34m,\u001b[0m\u001b[0;34m\u001b[0m\u001b[0;34m\u001b[0m\u001b[0m\n",
            "\u001b[0;32m/usr/local/lib/python3.10/dist-packages/pandas/io/pickle.py\u001b[0m in \u001b[0;36mto_pickle\u001b[0;34m(obj, filepath_or_buffer, compression, protocol, storage_options)\u001b[0m\n\u001b[1;32m    101\u001b[0m         \u001b[0mprotocol\u001b[0m \u001b[0;34m=\u001b[0m \u001b[0mpickle\u001b[0m\u001b[0;34m.\u001b[0m\u001b[0mHIGHEST_PROTOCOL\u001b[0m\u001b[0;34m\u001b[0m\u001b[0;34m\u001b[0m\u001b[0m\n\u001b[1;32m    102\u001b[0m \u001b[0;34m\u001b[0m\u001b[0m\n\u001b[0;32m--> 103\u001b[0;31m     with get_handle(\n\u001b[0m\u001b[1;32m    104\u001b[0m         \u001b[0mfilepath_or_buffer\u001b[0m\u001b[0;34m,\u001b[0m\u001b[0;34m\u001b[0m\u001b[0;34m\u001b[0m\u001b[0m\n\u001b[1;32m    105\u001b[0m         \u001b[0;34m\"wb\"\u001b[0m\u001b[0;34m,\u001b[0m\u001b[0;34m\u001b[0m\u001b[0;34m\u001b[0m\u001b[0m\n",
            "\u001b[0;32m/usr/local/lib/python3.10/dist-packages/pandas/io/common.py\u001b[0m in \u001b[0;36mget_handle\u001b[0;34m(path_or_buf, mode, encoding, compression, memory_map, is_text, errors, storage_options)\u001b[0m\n\u001b[1;32m    747\u001b[0m     \u001b[0;31m# Only for write methods\u001b[0m\u001b[0;34m\u001b[0m\u001b[0;34m\u001b[0m\u001b[0m\n\u001b[1;32m    748\u001b[0m     \u001b[0;32mif\u001b[0m \u001b[0;34m\"r\"\u001b[0m \u001b[0;32mnot\u001b[0m \u001b[0;32min\u001b[0m \u001b[0mmode\u001b[0m \u001b[0;32mand\u001b[0m \u001b[0mis_path\u001b[0m\u001b[0;34m:\u001b[0m\u001b[0;34m\u001b[0m\u001b[0;34m\u001b[0m\u001b[0m\n\u001b[0;32m--> 749\u001b[0;31m         \u001b[0mcheck_parent_directory\u001b[0m\u001b[0;34m(\u001b[0m\u001b[0mstr\u001b[0m\u001b[0;34m(\u001b[0m\u001b[0mhandle\u001b[0m\u001b[0;34m)\u001b[0m\u001b[0;34m)\u001b[0m\u001b[0;34m\u001b[0m\u001b[0;34m\u001b[0m\u001b[0m\n\u001b[0m\u001b[1;32m    750\u001b[0m \u001b[0;34m\u001b[0m\u001b[0m\n\u001b[1;32m    751\u001b[0m     \u001b[0;32mif\u001b[0m \u001b[0mcompression\u001b[0m\u001b[0;34m:\u001b[0m\u001b[0;34m\u001b[0m\u001b[0;34m\u001b[0m\u001b[0m\n",
            "\u001b[0;32m/usr/local/lib/python3.10/dist-packages/pandas/io/common.py\u001b[0m in \u001b[0;36mcheck_parent_directory\u001b[0;34m(path)\u001b[0m\n\u001b[1;32m    614\u001b[0m     \u001b[0mparent\u001b[0m \u001b[0;34m=\u001b[0m \u001b[0mPath\u001b[0m\u001b[0;34m(\u001b[0m\u001b[0mpath\u001b[0m\u001b[0;34m)\u001b[0m\u001b[0;34m.\u001b[0m\u001b[0mparent\u001b[0m\u001b[0;34m\u001b[0m\u001b[0;34m\u001b[0m\u001b[0m\n\u001b[1;32m    615\u001b[0m     \u001b[0;32mif\u001b[0m \u001b[0;32mnot\u001b[0m \u001b[0mparent\u001b[0m\u001b[0;34m.\u001b[0m\u001b[0mis_dir\u001b[0m\u001b[0;34m(\u001b[0m\u001b[0;34m)\u001b[0m\u001b[0;34m:\u001b[0m\u001b[0;34m\u001b[0m\u001b[0;34m\u001b[0m\u001b[0m\n\u001b[0;32m--> 616\u001b[0;31m         \u001b[0;32mraise\u001b[0m \u001b[0mOSError\u001b[0m\u001b[0;34m(\u001b[0m\u001b[0;34mrf\"Cannot save file into a non-existent directory: '{parent}'\"\u001b[0m\u001b[0;34m)\u001b[0m\u001b[0;34m\u001b[0m\u001b[0;34m\u001b[0m\u001b[0m\n\u001b[0m\u001b[1;32m    617\u001b[0m \u001b[0;34m\u001b[0m\u001b[0m\n\u001b[1;32m    618\u001b[0m \u001b[0;34m\u001b[0m\u001b[0m\n",
            "\u001b[0;31mOSError\u001b[0m: Cannot save file into a non-existent directory: 'data'"
          ]
        }
      ]
    },
    {
      "cell_type": "code",
      "source": [
        "import os\n",
        "\n",
        "if not os.path.exists(\"data\"):\n",
        "    os.makedirs(\"data\")  # Create the 'data' directory\n",
        "\n",
        "print(\"Setup complete. Directory 'data' created if it didn't exist.\")"
      ],
      "metadata": {
        "colab": {
          "base_uri": "https://localhost:8080/"
        },
        "id": "elYEHBC_wfT_",
        "outputId": "83a7ae3e-856b-4e40-ff01-c40fed1dbfc7"
      },
      "execution_count": 9,
      "outputs": [
        {
          "output_type": "stream",
          "name": "stdout",
          "text": [
            "Setup complete. Directory 'data' created if it didn't exist.\n"
          ]
        }
      ]
    },
    {
      "cell_type": "code",
      "source": [
        "# Convert to pickle\n",
        "interactions_train.to_pickle(\"data/interactions_train.pkl\")\n",
        "interactions_validation.to_pickle(\"data/interactions_validation.pkl\")\n",
        "interactions_test.to_pickle(\"data/interactions_test.pkl\")\n",
        "pp_recipes.to_pickle(\"data/PP_recipes.pkl\")\n",
        "pp_users.to_pickle(\"data/PP_users.pkl\")\n",
        "\n",
        "print(\"Conversion to pickle format complete!\")"
      ],
      "metadata": {
        "colab": {
          "base_uri": "https://localhost:8080/"
        },
        "id": "I7aetjjDwoAC",
        "outputId": "a6077d1d-918c-4a77-cb20-0a47f40329de"
      },
      "execution_count": 10,
      "outputs": [
        {
          "output_type": "stream",
          "name": "stdout",
          "text": [
            "Conversion to pickle format complete!\n"
          ]
        }
      ]
    },
    {
      "cell_type": "code",
      "source": [
        "# Load datasets from pickle\n",
        "interactions_train = pd.read_pickle(\"data/interactions_train.pkl\")\n",
        "pp_recipes = pd.read_pickle(\"data/PP_recipes.pkl\")\n",
        "\n",
        "# Merge interactions with recipes\n",
        "train_data = interactions_train.merge(pp_recipes, left_on=\"recipe_id\", right_on=\"id\", how=\"inner\")\n",
        "\n",
        "# Check the combined dataset\n",
        "print(\"Combined Dataset Shape:\", train_data.shape)\n",
        "print(train_data.head())"
      ],
      "metadata": {
        "colab": {
          "base_uri": "https://localhost:8080/"
        },
        "id": "fuxVmzSAw651",
        "outputId": "aaca27f6-f3aa-4432-83a8-cba6d7bc09c5"
      },
      "execution_count": 11,
      "outputs": [
        {
          "output_type": "stream",
          "name": "stdout",
          "text": [
            "Combined Dataset Shape: (698901, 14)\n",
            "   user_id  recipe_id        date  rating      u     i_x    id     i_y  \\\n",
            "0     2046       4684  2000-02-25     5.0  22095   44367  4684   44367   \n",
            "1     2046        517  2000-02-25     5.0  22095   87844   517   87844   \n",
            "2     1773       7435  2000-03-13     5.0  24732  138181  7435  138181   \n",
            "3     1773        278  2000-03-13     4.0  24732   93054   278   93054   \n",
            "4     2046       3431  2000-04-07     5.0  22095  101723  3431  101723   \n",
            "\n",
            "                                         name_tokens  \\\n",
            "0  [40480, 17364, 11892, 556, 14721, 955, 644, 81...   \n",
            "1                  [40480, 9319, 6003, 35045, 40481]   \n",
            "2  [40480, 5434, 252, 1432, 1055, 730, 11434, 40481]   \n",
            "3                 [40480, 9319, 34058, 35135, 40481]   \n",
            "4  [40480, 552, 2931, 16954, 10666, 6821, 6856, 4...   \n",
            "\n",
            "                                   ingredient_tokens  \\\n",
            "0  [[17364, 21170], [4017], [955, 644, 818, 955, ...   \n",
            "1  [[16212], [21601], [6812], [5940], [2279, 2591...   \n",
            "2  [[19414], [21570], [1055, 730, 11434, 12695, 5...   \n",
            "3  [[4787, 34058], [6812], [21453], [4914, 6821],...   \n",
            "4  [[8780], [9911, 742], [3137, 734, 5612], [1981...   \n",
            "\n",
            "                                        steps_tokens  \\\n",
            "0  [40480, 40482, 7087, 4017, 556, 955, 2763, 240...   \n",
            "1  [40480, 40482, 729, 2525, 10906, 485, 43, 8393...   \n",
            "2  [40480, 40482, 1529, 246, 7765, 485, 7379, 35,...   \n",
            "3  [40480, 40482, 485, 1892, 27708, 240, 512, 759...   \n",
            "4  [40480, 40482, 9423, 8780, 500, 1719, 28058, 7...   \n",
            "\n",
            "                                          techniques  calorie_level  \\\n",
            "0  [0, 0, 0, 0, 0, 0, 0, 0, 0, 0, 0, 0, 0, 0, 0, ...              1   \n",
            "1  [1, 0, 0, 0, 0, 0, 0, 0, 0, 1, 0, 0, 0, 0, 0, ...              1   \n",
            "2  [0, 0, 0, 0, 1, 0, 0, 0, 0, 0, 0, 0, 0, 0, 0, ...              2   \n",
            "3  [1, 0, 0, 0, 0, 0, 0, 0, 0, 0, 0, 0, 0, 0, 0, ...              0   \n",
            "4  [1, 0, 0, 0, 0, 0, 0, 0, 0, 0, 0, 0, 0, 0, 0, ...              2   \n",
            "\n",
            "                                      ingredient_ids  \n",
            "0  [2668, 3723, 1316, 2148, 4384, 3203, 68, 2007,...  \n",
            "1  [4110, 3609, 2499, 4717, 5791, 4987, 5010, 320...  \n",
            "2  [5010, 1093, 1827, 4527, 6841, 4884, 1799, 591...  \n",
            "3    [3087, 2499, 5010, 1910, 5319, 2591, 840, 5358]  \n",
            "4                [840, 4227, 2856, 7213, 4817, 5006]  \n"
          ]
        }
      ]
    },
    {
      "cell_type": "code",
      "source": [
        "# Inspect columns of the dataset\n",
        "print(\"Columns in the interactions_train dataset:\")\n",
        "print(interactions_train.columns)\n",
        "\n",
        "print(\"\\nColumns in the PP_recipes dataset:\")\n",
        "print(pp_recipes.columns)"
      ],
      "metadata": {
        "colab": {
          "base_uri": "https://localhost:8080/"
        },
        "id": "nA8vZjQcxBfh",
        "outputId": "d9b63af5-c27e-4c0f-8424-104ba1335752"
      },
      "execution_count": 15,
      "outputs": [
        {
          "output_type": "stream",
          "name": "stdout",
          "text": [
            "Columns in the interactions_train dataset:\n",
            "Index(['user_id', 'recipe_id', 'date', 'rating', 'u', 'i'], dtype='object')\n",
            "\n",
            "Columns in the PP_recipes dataset:\n",
            "Index(['id', 'i', 'name_tokens', 'ingredient_tokens', 'steps_tokens',\n",
            "       'techniques', 'calorie_level', 'ingredient_ids'],\n",
            "      dtype='object')\n"
          ]
        }
      ]
    },
    {
      "cell_type": "code",
      "source": [
        "# Merge interactions with recipes based on recipe_id (interactions_train) and id (PP_recipes)\n",
        "train_data = interactions_train.merge(pp_recipes, left_on=\"recipe_id\", right_on=\"id\", how=\"inner\")\n",
        "\n",
        "# Inspect the merged dataset\n",
        "print(\"Merged Dataset Columns:\")\n",
        "print(train_data.columns)\n",
        "\n",
        "print(\"\\nSample Data:\")\n",
        "print(train_data.head())"
      ],
      "metadata": {
        "colab": {
          "base_uri": "https://localhost:8080/"
        },
        "id": "ujvcleayx6uT",
        "outputId": "fe9b1dab-f178-47a8-da6b-cc7a5ba05b7d"
      },
      "execution_count": 16,
      "outputs": [
        {
          "output_type": "stream",
          "name": "stdout",
          "text": [
            "Merged Dataset Columns:\n",
            "Index(['user_id', 'recipe_id', 'date', 'rating', 'u', 'i_x', 'id', 'i_y',\n",
            "       'name_tokens', 'ingredient_tokens', 'steps_tokens', 'techniques',\n",
            "       'calorie_level', 'ingredient_ids'],\n",
            "      dtype='object')\n",
            "\n",
            "Sample Data:\n",
            "   user_id  recipe_id        date  rating      u     i_x    id     i_y  \\\n",
            "0     2046       4684  2000-02-25     5.0  22095   44367  4684   44367   \n",
            "1     2046        517  2000-02-25     5.0  22095   87844   517   87844   \n",
            "2     1773       7435  2000-03-13     5.0  24732  138181  7435  138181   \n",
            "3     1773        278  2000-03-13     4.0  24732   93054   278   93054   \n",
            "4     2046       3431  2000-04-07     5.0  22095  101723  3431  101723   \n",
            "\n",
            "                                         name_tokens  \\\n",
            "0  [40480, 17364, 11892, 556, 14721, 955, 644, 81...   \n",
            "1                  [40480, 9319, 6003, 35045, 40481]   \n",
            "2  [40480, 5434, 252, 1432, 1055, 730, 11434, 40481]   \n",
            "3                 [40480, 9319, 34058, 35135, 40481]   \n",
            "4  [40480, 552, 2931, 16954, 10666, 6821, 6856, 4...   \n",
            "\n",
            "                                   ingredient_tokens  \\\n",
            "0  [[17364, 21170], [4017], [955, 644, 818, 955, ...   \n",
            "1  [[16212], [21601], [6812], [5940], [2279, 2591...   \n",
            "2  [[19414], [21570], [1055, 730, 11434, 12695, 5...   \n",
            "3  [[4787, 34058], [6812], [21453], [4914, 6821],...   \n",
            "4  [[8780], [9911, 742], [3137, 734, 5612], [1981...   \n",
            "\n",
            "                                        steps_tokens  \\\n",
            "0  [40480, 40482, 7087, 4017, 556, 955, 2763, 240...   \n",
            "1  [40480, 40482, 729, 2525, 10906, 485, 43, 8393...   \n",
            "2  [40480, 40482, 1529, 246, 7765, 485, 7379, 35,...   \n",
            "3  [40480, 40482, 485, 1892, 27708, 240, 512, 759...   \n",
            "4  [40480, 40482, 9423, 8780, 500, 1719, 28058, 7...   \n",
            "\n",
            "                                          techniques  calorie_level  \\\n",
            "0  [0, 0, 0, 0, 0, 0, 0, 0, 0, 0, 0, 0, 0, 0, 0, ...              1   \n",
            "1  [1, 0, 0, 0, 0, 0, 0, 0, 0, 1, 0, 0, 0, 0, 0, ...              1   \n",
            "2  [0, 0, 0, 0, 1, 0, 0, 0, 0, 0, 0, 0, 0, 0, 0, ...              2   \n",
            "3  [1, 0, 0, 0, 0, 0, 0, 0, 0, 0, 0, 0, 0, 0, 0, ...              0   \n",
            "4  [1, 0, 0, 0, 0, 0, 0, 0, 0, 0, 0, 0, 0, 0, 0, ...              2   \n",
            "\n",
            "                                      ingredient_ids  \n",
            "0  [2668, 3723, 1316, 2148, 4384, 3203, 68, 2007,...  \n",
            "1  [4110, 3609, 2499, 4717, 5791, 4987, 5010, 320...  \n",
            "2  [5010, 1093, 1827, 4527, 6841, 4884, 1799, 591...  \n",
            "3    [3087, 2499, 5010, 1910, 5319, 2591, 840, 5358]  \n",
            "4                [840, 4227, 2856, 7213, 4817, 5006]  \n"
          ]
        }
      ]
    },
    {
      "cell_type": "code",
      "source": [
        "import matplotlib.pyplot as plt\n",
        "from collections import Counter\n",
        "\n",
        "# Extract ingredients from the 'ingredient_tokens' column\n",
        "all_ingredients = []\n",
        "\n",
        "# Flatten the list of ingredients from the 'ingredient_tokens' column\n",
        "for recipe in pp_recipes['ingredient_tokens']:\n",
        "    # Ensure the value is a list (could be a string or list, so check and process)\n",
        "    if isinstance(recipe, list):\n",
        "        all_ingredients.extend(recipe)\n",
        "    else:\n",
        "        # If it's a string, split by spaces\n",
        "        all_ingredients.extend(recipe.split())\n",
        "\n",
        "# Get frequency distribution of ingredients\n",
        "ingredient_freq = Counter(all_ingredients)\n",
        "\n",
        "# Get the top 10 most common ingredients\n",
        "top_ingredients = ingredient_freq.most_common(10)\n",
        "ingredients, counts = zip(*top_ingredients)\n",
        "\n",
        "# Plot the result\n",
        "plt.figure(figsize=(10,6))\n",
        "plt.bar(ingredients, counts)\n",
        "plt.xticks(rotation=90)\n",
        "plt.title(\"Top 10 Most Common Ingredients\")\n",
        "plt.xlabel(\"Ingredients\")\n",
        "plt.ylabel(\"Frequency\")\n",
        "plt.show()"
      ],
      "metadata": {
        "colab": {
          "base_uri": "https://localhost:8080/",
          "height": 217
        },
        "id": "QUquCgiy8v50",
        "outputId": "5ace8274-2226-4598-aa88-79029407f8b9"
      },
      "execution_count": 67,
      "outputs": [
        {
          "output_type": "display_data",
          "data": {
            "text/plain": [
              "<Figure size 1000x600 with 1 Axes>"
            ],
            "image/png": "[encoded data removed]"
          },
          "metadata": {}
        }
      ]
    },
    {
      "cell_type": "code",
      "source": [
        "\n",
        "# Calculate the number of ingredients for each recipe\n",
        "recipe_lengths = pp_recipes['ingredient_tokens'].apply(lambda x: len(x) if isinstance(x, list) else len(x.split()))\n",
        "\n",
        "# Plot the distribution of recipe lengths (number of ingredients per recipe)\n",
        "plt.figure(figsize=(10, 6))\n",
        "plt.hist(recipe_lengths, bins=30, color='skyblue', edgecolor='black')\n",
        "plt.title('Distribution of Ingredients Per Recipe')\n",
        "plt.xlabel('Number of Ingredients')\n",
        "plt.ylabel('Frequency')\n",
        "plt.show()"
      ],
      "metadata": {
        "colab": {
          "base_uri": "https://localhost:8080/",
          "height": 203
        },
        "id": "oew0kppq_XvS",
        "outputId": "e5921c2f-4065-4d47-99d9-3988ccfef0d8"
      },
      "execution_count": 55,
      "outputs": [
        {
          "output_type": "display_data",
          "data": {
            "text/plain": [
              "<Figure size 1000x600 with 1 Axes>"
            ],
            "image/png": "[encoded data removed]"
          },
          "metadata": {}
        }
      ]
    },
    {
      "cell_type": "code",
      "source": [
        "# Check if 'calorie_level' is categorical and count the occurrences\n",
        "calorie_distribution = pp_recipes['calorie_level'].value_counts()\n",
        "\n",
        "# Plot the distribution of calorie levels\n",
        "plt.figure(figsize=(8, 6))\n",
        "calorie_distribution.plot(kind='bar', color='salmon')\n",
        "plt.title('Distribution of Recipes by Calorie Level')\n",
        "plt.xlabel('Calorie Level')\n",
        "plt.ylabel('Number of Recipes')\n",
        "plt.xticks(rotation=0)\n",
        "plt.show()"
      ],
      "metadata": {
        "colab": {
          "base_uri": "https://localhost:8080/",
          "height": 243
        },
        "id": "ucTD-wG3_gc8",
        "outputId": "4b3667ca-261f-4f6c-95ca-3196c10796a2"
      },
      "execution_count": 61,
      "outputs": [
        {
          "output_type": "display_data",
          "data": {
            "text/plain": [
              "<Figure size 800x600 with 1 Axes>"
            ],
            "image/png": "[encoded data removed]"
          },
          "metadata": {}
        }
      ]
    },
    {
      "cell_type": "code",
      "source": [
        "# Calculate the number of tokens (words) in the 'steps_tokens' column\n",
        "steps_token_counts = pp_recipes['steps_tokens'].apply(lambda x: len(x) if isinstance(x, list) else len(x.split()))\n",
        "\n",
        "# Plot the distribution of the number of tokens in steps\n",
        "plt.figure(figsize=(10, 6))\n",
        "plt.hist(steps_token_counts, bins=30, color='lightcoral', edgecolor='black')\n",
        "plt.title('Distribution of Step Token Counts per Recipe')\n",
        "plt.xlabel('Number of Step Tokens')\n",
        "plt.ylabel('Frequency')\n",
        "plt.show()"
      ],
      "metadata": {
        "colab": {
          "base_uri": "https://localhost:8080/",
          "height": 203
        },
        "id": "4WI_5L1lAWew",
        "outputId": "b6dcdc58-111e-48d8-f37a-3455af654810"
      },
      "execution_count": 60,
      "outputs": [
        {
          "output_type": "display_data",
          "data": {
            "text/plain": [
              "<Figure size 1000x600 with 1 Axes>"
            ],
            "image/png": "[encoded data removed]"
          },
          "metadata": {}
        }
      ]
    },
    {
      "cell_type": "code",
      "source": [
        "\n",
        "from sklearn.feature_extraction.text import TfidfVectorizer\n",
        "\n",
        "# Use 'ingredient_tokens' for content-based recommendations\n",
        "tfidf = TfidfVectorizer(stop_words='english')\n",
        "tfidf_matrix = tfidf.fit_transform(train_data['ingredient_tokens'])\n",
        "\n",
        "print(\"TF-IDF matrix shape:\", tfidf_matrix.shape)"
      ],
      "metadata": {
        "colab": {
          "base_uri": "https://localhost:8080/"
        },
        "id": "r3LDf2_8yKw5",
        "outputId": "d221bd3b-1032-4013-8819-e397ccd7b566"
      },
      "execution_count": 17,
      "outputs": [
        {
          "output_type": "stream",
          "name": "stdout",
          "text": [
            "TF-IDF matrix shape: (698901, 3692)\n"
          ]
        }
      ]
    },
    {
      "cell_type": "code",
      "source": [
        "def content_based_recommendation(ingredients, top_n=5):\n",
        "    \"\"\"\n",
        "    Recommend recipes based on content similarity (ingredient_tokens).\n",
        "    \"\"\"\n",
        "    input_ingredients = ' '.join(ingredients)\n",
        "    input_vector = tfidf.transform([input_ingredients])\n",
        "    similarity_scores = cosine_similarity(input_vector, tfidf_matrix).flatten()\n",
        "\n",
        "    # Debugging output\n",
        "    print(f\"Similarity scores shape: {similarity_scores.shape}\")\n",
        "\n",
        "    top_indices = similarity_scores.argsort()[-top_n:][::-1]\n",
        "    recommendations = train_data.iloc[top_indices][['id', 'name_tokens', 'ingredient_tokens', 'steps_tokens']]\n",
        "    print(f\"Content-based Recommendations:\\n{recommendations}\")\n",
        "\n",
        "    return recommendations"
      ],
      "metadata": {
        "id": "jEmFZm_qyXgB"
      },
      "execution_count": 28,
      "outputs": []
    },
    {
      "cell_type": "code",
      "source": [
        "from surprise import SVD, Dataset, Reader\n",
        "from surprise.model_selection import train_test_split\n",
        "from surprise import accuracy\n",
        "\n",
        "# Prepare the data\n",
        "reader = Reader(rating_scale=(0, 5))\n",
        "data = Dataset.load_from_df(interactions_train[['user_id', 'recipe_id', 'rating']], reader)\n",
        "\n",
        "# Split into training and testing sets\n",
        "trainset, testset = train_test_split(data, test_size=0.2)\n",
        "\n",
        "# Train the SVD model\n",
        "model = SVD()\n",
        "model.fit(trainset)\n",
        "\n",
        "# Evaluate the model\n",
        "predictions = model.test(testset)\n",
        "rmse = accuracy.rmse(predictions)\n",
        "print(\"Collaborative Filtering RMSE:\", rmse)"
      ],
      "metadata": {
        "colab": {
          "base_uri": "https://localhost:8080/"
        },
        "id": "INyXZ6FezD1Q",
        "outputId": "00fa44fc-f17a-457a-956f-0f279061e440"
      },
      "execution_count": 20,
      "outputs": [
        {
          "output_type": "stream",
          "name": "stdout",
          "text": [
            "RMSE: 0.9161\n",
            "Collaborative Filtering RMSE: 0.9160798719748126\n"
          ]
        }
      ]
    },
    {
      "cell_type": "code",
      "source": [
        "def collaborative_recommendation(user_id, top_n=5):\n",
        "    \"\"\"\n",
        "    Recommend recipes based on collaborative filtering.\n",
        "    \"\"\"\n",
        "    # Get all unique recipe IDs\n",
        "    all_recipes = interactions_train['recipe_id'].unique()\n",
        "\n",
        "    # Identify unseen recipes\n",
        "    user_interactions = interactions_train[interactions_train['user_id'] == user_id]\n",
        "    seen_recipes = set(user_interactions['recipe_id'])\n",
        "    unseen_recipes = [recipe for recipe in all_recipes if recipe not in seen_recipes]\n",
        "\n",
        "    # Debugging output\n",
        "    print(f\"User {user_id} has seen {len(seen_recipes)} recipes.\")\n",
        "    print(f\"Unseen recipes count: {len(unseen_recipes)}\")\n",
        "\n",
        "    # Predict ratings\n",
        "    predictions = [\n",
        "        (recipe, model.predict(user_id, recipe).est)\n",
        "        for recipe in unseen_recipes\n",
        "    ]\n",
        "\n",
        "    # Sort predictions by estimated rating\n",
        "    sorted_predictions = sorted(predictions, key=lambda x: x[1], reverse=True)\n",
        "\n",
        "    # Debugging output\n",
        "    print(f\"Top predictions: {sorted_predictions[:top_n]}\")\n",
        "\n",
        "    # Get top N recommendations\n",
        "    top_recommendations = sorted_predictions[:top_n]\n",
        "    recipe_ids = [rec[0] for rec in top_recommendations]\n",
        "    recommended_recipes = pp_recipes[pp_recipes['id'].isin(recipe_ids)]\n",
        "\n",
        "    return recommended_recipes[['id', 'name_tokens', 'ingredient_tokens', 'steps_tokens']]"
      ],
      "metadata": {
        "id": "nXIlP9l2zZ9Y"
      },
      "execution_count": 29,
      "outputs": []
    },
    {
      "cell_type": "code",
      "source": [
        "def hybrid_recommendation(user_id, ingredients, preferences, top_n=5):\n",
        "    \"\"\"\n",
        "    Combine content-based and collaborative recommendations.\n",
        "    \"\"\"\n",
        "    # Content-based recommendations\n",
        "    content_recipes = content_based_recommendation(ingredients, top_n * 2)\n",
        "\n",
        "    # Collaborative recommendations\n",
        "    collaborative_recipes = collaborative_recommendation(user_id, top_n * 2)\n",
        "\n",
        "    # Combine results\n",
        "    combined_recipes = pd.concat([content_recipes, collaborative_recipes]).drop_duplicates(subset='id')\n",
        "\n",
        "    # Debugging output\n",
        "    print(f\"Combined Recommendations Before Filtering:\\n{combined_recipes}\")\n",
        "\n",
        "    #Check if no recipes\n",
        "    if combined_recipes.empty:\n",
        "     print(\"No recipes match preferences. Returning unfiltered results.\")\n",
        "    return combined_recipes  # Or some fallback\n",
        "\n",
        "    #Debug\n",
        "    print(\"Combined Recipes Before Preference Filtering:\", combined_recipes.shape)\n",
        "    print(\"Preferences Being Applied:\", preferences)\n",
        "\n",
        "\n",
        "    # Apply preference filtering\n",
        "    for pref in preferences:\n",
        "     combined_recipes = combined_recipes[combined_recipes['ingredient_tokens'].str.contains(pref, case=False, na=False, regex=True)]\n",
        "\n",
        "    # After filtering\n",
        "    print(\"Combined Recipes After Preference Filtering:\", combined_recipes.shape)\n",
        "    print(\"First 5 Recipes After Preference Filtering:\", combined_recipes.head())\n",
        "\n",
        "    # Debugging output\n",
        "    print(f\"Filtered Recommendations:\\n{combined_recipes}\")\n",
        "\n",
        "    return combined_recipes.head(top_n)"
      ],
      "metadata": {
        "id": "4H66PKqzzeyl"
      },
      "execution_count": 68,
      "outputs": []
    },
    {
      "cell_type": "code",
      "source": [
        "# Example inputs\n",
        "user_id = 2046\n",
        "ingredients = ['tomato', 'onion', 'lentils']\n",
        "preferences = ['vegetarian', 'spicy']\n",
        "\n",
        "# Get recommendations\n",
        "recommendations = hybrid_recommendation(user_id, ingredients, preferences, top_n=5)\n",
        "\n",
        "print(\"Recommendations:\")\n",
        "print(recommendations)"
      ],
      "metadata": {
        "colab": {
          "base_uri": "https://localhost:8080/"
        },
        "id": "DFKwHRUzzjRo",
        "outputId": "c6580727-9a40-498b-ff95-f692cf0a1767"
      },
      "execution_count": 49,
      "outputs": [
        {
          "output_type": "stream",
          "name": "stdout",
          "text": [
            "Similarity scores shape: (698901,)\n",
            "Content-based Recommendations:\n",
            "            id                                        name_tokens  \\\n",
            "698900  314535             [40480, 3484, 6878, 556, 22075, 40481]   \n",
            "232963  237196  [40480, 13119, 252, 5867, 5703, 2115, 745, 40481]   \n",
            "232971  167798  [40480, 24, 666, 11007, 3947, 548, 1711, 488, ...   \n",
            "232970  238938  [40480, 2417, 13995, 26855, 556, 36672, 1126, ...   \n",
            "232969   41218  [40480, 10416, 252, 5770, 5239, 24, 931, 245, ...   \n",
            "232968  110683                 [40480, 7927, 22306, 30137, 40481]   \n",
            "232967    4294                 [40480, 16476, 10734, 7087, 40481]   \n",
            "232966    9272                        [40480, 3704, 31843, 40481]   \n",
            "232965  209764  [40480, 566, 5024, 7307, 1286, 1964, 5317, 540...   \n",
            "232964  221809                 [40480, 1122, 24843, 11007, 40481]   \n",
            "\n",
            "                                        ingredient_tokens  \\\n",
            "698900  [[10444, 6020], [21453], [928, 13569, 6878], [...   \n",
            "232963  [[31801, 918, 15509, 5867, 5355, 21940], [589,...   \n",
            "232971  [[6167, 24, 666, 16201], [12227, 3947, 548, 17...   \n",
            "232970  [[2417, 10837], [8780], [6444], [6953], [6812]...   \n",
            "232969  [[25818, 29428], [19811], [978, 4178, 11332], ...   \n",
            "232968  [[6812], [5940], [17869, 6020], [589, 260, 400...   \n",
            "232967  [[9230, 789, 607], [6167, 21453], [6167, 734, ...   \n",
            "232966  [[19811], [19414], [2056, 28062], [28, 14769, ...   \n",
            "232965  [[7307, 1286, 260, 1964, 17918], [20613], [644...   \n",
            "232964  [[9689], [1430, 11434], [21453], [2507, 6444],...   \n",
            "\n",
            "                                             steps_tokens  \n",
            "698900  [40480, 40482, 2525, 6020, 500, 1719, 28058, 5...  \n",
            "232963  [40480, 40482, 556, 246, 5089, 29969, 240, 793...  \n",
            "232971  [40480, 40482, 2042, 488, 5122, 11007, 40478, ...  \n",
            "232970  [40480, 40482, 2525, 2417, 10837, 485, 11468, ...  \n",
            "232969  [40480, 40482, 500, 246, 37588, 522, 963, 1719...  \n",
            "232968  [40480, 40482, 7087, 589, 2832, 16126, 1281, 2...  \n",
            "232967  [40480, 40482, 23667, 481, 929, 1979, 16126, 4...  \n",
            "232966  [40480, 40482, 7087, 589, 1281, 488, 2030, 485...  \n",
            "232965  [40480, 40482, 7087, 589, 2832, 16126, 500, 24...  \n",
            "232964  [40480, 40482, 2507, 9689, 240, 9933, 488, 123...  \n",
            "User 2046 has seen 4 recipes.\n",
            "Unseen recipes count: 160897\n",
            "Top predictions: [(9370, 5), (4332, 5), (1904, 5), (3579, 5), (12648, 5), (14752, 5), (15690, 5), (8892, 5), (12881, 5), (4410, 5)]\n",
            "Combined Recommendations Before Filtering:\n",
            "            id                                        name_tokens  \\\n",
            "698900  314535             [40480, 3484, 6878, 556, 22075, 40481]   \n",
            "232963  237196  [40480, 13119, 252, 5867, 5703, 2115, 745, 40481]   \n",
            "232971  167798  [40480, 24, 666, 11007, 3947, 548, 1711, 488, ...   \n",
            "232970  238938  [40480, 2417, 13995, 26855, 556, 36672, 1126, ...   \n",
            "232969   41218  [40480, 10416, 252, 5770, 5239, 24, 931, 245, ...   \n",
            "232968  110683                 [40480, 7927, 22306, 30137, 40481]   \n",
            "232967    4294                 [40480, 16476, 10734, 7087, 40481]   \n",
            "232966    9272                        [40480, 3704, 31843, 40481]   \n",
            "232965  209764  [40480, 566, 5024, 7307, 1286, 1964, 5317, 540...   \n",
            "232964  221809                 [40480, 1122, 24843, 11007, 40481]   \n",
            "18536     3579              [40480, 1631, 252, 7304, 9238, 40481]   \n",
            "47014     8892                       [40480, 22005, 34058, 40481]   \n",
            "57177    12648             [40480, 979, 1350, 1044, 15798, 40481]   \n",
            "57374     9370                  [40480, 1879, 9766, 28104, 40481]   \n",
            "77624    12881  [40480, 3127, 488, 8579, 17877, 6453, 252, 462...   \n",
            "113817   14752                [40480, 26417, 22193, 23835, 40481]   \n",
            "139745    4332     [40480, 1845, 22992, 21278, 5409, 7735, 40481]   \n",
            "140377    4410      [40480, 954, 4739, 28020, 11892, 9540, 40481]   \n",
            "145289   15690  [40480, 2012, 581, 13692, 23789, 1494, 273, 40...   \n",
            "155124    1904              [40480, 25084, 500, 246, 7932, 40481]   \n",
            "\n",
            "                                        ingredient_tokens  \\\n",
            "698900  [[10444, 6020], [21453], [928, 13569, 6878], [...   \n",
            "232963  [[31801, 918, 15509, 5867, 5355, 21940], [589,...   \n",
            "232971  [[6167, 24, 666, 16201], [12227, 3947, 548, 17...   \n",
            "232970  [[2417, 10837], [8780], [6444], [6953], [6812]...   \n",
            "232969  [[25818, 29428], [19811], [978, 4178, 11332], ...   \n",
            "232968  [[6812], [5940], [17869, 6020], [589, 260, 400...   \n",
            "232967  [[9230, 789, 607], [6167, 21453], [6167, 734, ...   \n",
            "232966  [[19811], [19414], [2056, 28062], [28, 14769, ...   \n",
            "232965  [[7307, 1286, 260, 1964, 17918], [20613], [644...   \n",
            "232964  [[9689], [1430, 11434], [21453], [2507, 6444],...   \n",
            "18536   [[14389], [17918], [2507, 6444], [8780], [2279...   \n",
            "47014   [[2056, 21453], [15022], [18594], [506, 1658, ...   \n",
            "57177   [[589, 260, 4001, 17918], [3567, 4739, 2832, 5...   \n",
            "57374   [[8780], [9426, 260, 2417, 5317, 9079], [14368...   \n",
            "77624   [[4620, 22075], [4564, 26, 1261, 911], [19414]...   \n",
            "113817  [[8780], [19104], [6953], [13249, 11332], [209...   \n",
            "139745  [[4465, 29487, 6444], [589, 260, 4001, 17918],...   \n",
            "140377  [[35389, 40118, 3844, 21170], [37754, 10734], ...   \n",
            "145289  [[13099, 1835, 21170], [6444], [37754, 10734],...   \n",
            "155124  [[1454, 6444], [20613], [8467, 1179], [589, 26...   \n",
            "\n",
            "                                             steps_tokens  \n",
            "698900  [40480, 40482, 2525, 6020, 500, 1719, 28058, 5...  \n",
            "232963  [40480, 40482, 556, 246, 5089, 29969, 240, 793...  \n",
            "232971  [40480, 40482, 2042, 488, 5122, 11007, 40478, ...  \n",
            "232970  [40480, 40482, 2525, 2417, 10837, 485, 11468, ...  \n",
            "232969  [40480, 40482, 500, 246, 37588, 522, 963, 1719...  \n",
            "232968  [40480, 40482, 7087, 589, 2832, 16126, 1281, 2...  \n",
            "232967  [40480, 40482, 23667, 481, 929, 1979, 16126, 4...  \n",
            "232966  [40480, 40482, 7087, 589, 1281, 488, 2030, 485...  \n",
            "232965  [40480, 40482, 7087, 589, 2832, 16126, 500, 24...  \n",
            "232964  [40480, 40482, 2507, 9689, 240, 9933, 488, 123...  \n",
            "18536   [40480, 40482, 15258, 14389, 488, 6018, 588, 1...  \n",
            "47014   [40480, 40482, 23667, 19414, 240, 15022, 240, ...  \n",
            "57177   [40480, 40482, 23667, 17918, 240, 5940, 240, 1...  \n",
            "57374   [40480, 40482, 500, 246, 1719, 10734, 6847, 24...  \n",
            "77624   [40480, 40482, 1082, 4620, 22075, 240, 26, 126...  \n",
            "113817  [40480, 40482, 500, 246, 28058, 9423, 481, 878...  \n",
            "139745  [40480, 40482, 2525, 10906, 485, 43, 28852, 18...  \n",
            "140377  [40480, 40482, 729, 2525, 903, 6697, 522, 1344...  \n",
            "145289  [40480, 40482, 7087, 11434, 296, 6444, 240, 85...  \n",
            "155124  [40480, 40482, 8240, 6444, 666, 246, 2698, 488...  \n",
            "Recommendations:\n",
            "            id                                        name_tokens  \\\n",
            "698900  314535             [40480, 3484, 6878, 556, 22075, 40481]   \n",
            "232963  237196  [40480, 13119, 252, 5867, 5703, 2115, 745, 40481]   \n",
            "232971  167798  [40480, 24, 666, 11007, 3947, 548, 1711, 488, ...   \n",
            "232970  238938  [40480, 2417, 13995, 26855, 556, 36672, 1126, ...   \n",
            "232969   41218  [40480, 10416, 252, 5770, 5239, 24, 931, 245, ...   \n",
            "232968  110683                 [40480, 7927, 22306, 30137, 40481]   \n",
            "232967    4294                 [40480, 16476, 10734, 7087, 40481]   \n",
            "232966    9272                        [40480, 3704, 31843, 40481]   \n",
            "232965  209764  [40480, 566, 5024, 7307, 1286, 1964, 5317, 540...   \n",
            "232964  221809                 [40480, 1122, 24843, 11007, 40481]   \n",
            "18536     3579              [40480, 1631, 252, 7304, 9238, 40481]   \n",
            "47014     8892                       [40480, 22005, 34058, 40481]   \n",
            "57177    12648             [40480, 979, 1350, 1044, 15798, 40481]   \n",
            "57374     9370                  [40480, 1879, 9766, 28104, 40481]   \n",
            "77624    12881  [40480, 3127, 488, 8579, 17877, 6453, 252, 462...   \n",
            "113817   14752                [40480, 26417, 22193, 23835, 40481]   \n",
            "139745    4332     [40480, 1845, 22992, 21278, 5409, 7735, 40481]   \n",
            "140377    4410      [40480, 954, 4739, 28020, 11892, 9540, 40481]   \n",
            "145289   15690  [40480, 2012, 581, 13692, 23789, 1494, 273, 40...   \n",
            "155124    1904              [40480, 25084, 500, 246, 7932, 40481]   \n",
            "\n",
            "                                        ingredient_tokens  \\\n",
            "698900  [[10444, 6020], [21453], [928, 13569, 6878], [...   \n",
            "232963  [[31801, 918, 15509, 5867, 5355, 21940], [589,...   \n",
            "232971  [[6167, 24, 666, 16201], [12227, 3947, 548, 17...   \n",
            "232970  [[2417, 10837], [8780], [6444], [6953], [6812]...   \n",
            "232969  [[25818, 29428], [19811], [978, 4178, 11332], ...   \n",
            "232968  [[6812], [5940], [17869, 6020], [589, 260, 400...   \n",
            "232967  [[9230, 789, 607], [6167, 21453], [6167, 734, ...   \n",
            "232966  [[19811], [19414], [2056, 28062], [28, 14769, ...   \n",
            "232965  [[7307, 1286, 260, 1964, 17918], [20613], [644...   \n",
            "232964  [[9689], [1430, 11434], [21453], [2507, 6444],...   \n",
            "18536   [[14389], [17918], [2507, 6444], [8780], [2279...   \n",
            "47014   [[2056, 21453], [15022], [18594], [506, 1658, ...   \n",
            "57177   [[589, 260, 4001, 17918], [3567, 4739, 2832, 5...   \n",
            "57374   [[8780], [9426, 260, 2417, 5317, 9079], [14368...   \n",
            "77624   [[4620, 22075], [4564, 26, 1261, 911], [19414]...   \n",
            "113817  [[8780], [19104], [6953], [13249, 11332], [209...   \n",
            "139745  [[4465, 29487, 6444], [589, 260, 4001, 17918],...   \n",
            "140377  [[35389, 40118, 3844, 21170], [37754, 10734], ...   \n",
            "145289  [[13099, 1835, 21170], [6444], [37754, 10734],...   \n",
            "155124  [[1454, 6444], [20613], [8467, 1179], [589, 26...   \n",
            "\n",
            "                                             steps_tokens  \n",
            "698900  [40480, 40482, 2525, 6020, 500, 1719, 28058, 5...  \n",
            "232963  [40480, 40482, 556, 246, 5089, 29969, 240, 793...  \n",
            "232971  [40480, 40482, 2042, 488, 5122, 11007, 40478, ...  \n",
            "232970  [40480, 40482, 2525, 2417, 10837, 485, 11468, ...  \n",
            "232969  [40480, 40482, 500, 246, 37588, 522, 963, 1719...  \n",
            "232968  [40480, 40482, 7087, 589, 2832, 16126, 1281, 2...  \n",
            "232967  [40480, 40482, 23667, 481, 929, 1979, 16126, 4...  \n",
            "232966  [40480, 40482, 7087, 589, 1281, 488, 2030, 485...  \n",
            "232965  [40480, 40482, 7087, 589, 2832, 16126, 500, 24...  \n",
            "232964  [40480, 40482, 2507, 9689, 240, 9933, 488, 123...  \n",
            "18536   [40480, 40482, 15258, 14389, 488, 6018, 588, 1...  \n",
            "47014   [40480, 40482, 23667, 19414, 240, 15022, 240, ...  \n",
            "57177   [40480, 40482, 23667, 17918, 240, 5940, 240, 1...  \n",
            "57374   [40480, 40482, 500, 246, 1719, 10734, 6847, 24...  \n",
            "77624   [40480, 40482, 1082, 4620, 22075, 240, 26, 126...  \n",
            "113817  [40480, 40482, 500, 246, 28058, 9423, 481, 878...  \n",
            "139745  [40480, 40482, 2525, 10906, 485, 43, 28852, 18...  \n",
            "140377  [40480, 40482, 729, 2525, 903, 6697, 522, 1344...  \n",
            "145289  [40480, 40482, 7087, 11434, 296, 6444, 240, 85...  \n",
            "155124  [40480, 40482, 8240, 6444, 666, 246, 2698, 488...  \n"
          ]
        }
      ]
    },
    {
      "cell_type": "code",
      "source": [
        "# Example inputs\n",
        "user_id = 1773\n",
        "ingredients = ['onion', 'chicken']\n",
        "preferences = ['spicy']\n",
        "\n",
        "# Get recommendations\n",
        "recommendations = hybrid_recommendation(user_id, ingredients, preferences, top_n=5)\n",
        "\n",
        "print(\"Recommendations:\")\n",
        "print(recommendations)"
      ],
      "metadata": {
        "colab": {
          "base_uri": "https://localhost:8080/"
        },
        "id": "baPvzmnfC6VA",
        "outputId": "53179619-29bd-44e4-83b3-eef35f8878d8"
      },
      "execution_count": 70,
      "outputs": [
        {
          "output_type": "stream",
          "name": "stdout",
          "text": [
            "Similarity scores shape: (698901,)\n",
            "Content-based Recommendations:\n",
            "            id                                        name_tokens  \\\n",
            "698900  314535             [40480, 3484, 6878, 556, 22075, 40481]   \n",
            "232963  237196  [40480, 13119, 252, 5867, 5703, 2115, 745, 40481]   \n",
            "232971  167798  [40480, 24, 666, 11007, 3947, 548, 1711, 488, ...   \n",
            "232970  238938  [40480, 2417, 13995, 26855, 556, 36672, 1126, ...   \n",
            "232969   41218  [40480, 10416, 252, 5770, 5239, 24, 931, 245, ...   \n",
            "232968  110683                 [40480, 7927, 22306, 30137, 40481]   \n",
            "232967    4294                 [40480, 16476, 10734, 7087, 40481]   \n",
            "232966    9272                        [40480, 3704, 31843, 40481]   \n",
            "232965  209764  [40480, 566, 5024, 7307, 1286, 1964, 5317, 540...   \n",
            "232964  221809                 [40480, 1122, 24843, 11007, 40481]   \n",
            "\n",
            "                                        ingredient_tokens  \\\n",
            "698900  [[10444, 6020], [21453], [928, 13569, 6878], [...   \n",
            "232963  [[31801, 918, 15509, 5867, 5355, 21940], [589,...   \n",
            "232971  [[6167, 24, 666, 16201], [12227, 3947, 548, 17...   \n",
            "232970  [[2417, 10837], [8780], [6444], [6953], [6812]...   \n",
            "232969  [[25818, 29428], [19811], [978, 4178, 11332], ...   \n",
            "232968  [[6812], [5940], [17869, 6020], [589, 260, 400...   \n",
            "232967  [[9230, 789, 607], [6167, 21453], [6167, 734, ...   \n",
            "232966  [[19811], [19414], [2056, 28062], [28, 14769, ...   \n",
            "232965  [[7307, 1286, 260, 1964, 17918], [20613], [644...   \n",
            "232964  [[9689], [1430, 11434], [21453], [2507, 6444],...   \n",
            "\n",
            "                                             steps_tokens  \n",
            "698900  [40480, 40482, 2525, 6020, 500, 1719, 28058, 5...  \n",
            "232963  [40480, 40482, 556, 246, 5089, 29969, 240, 793...  \n",
            "232971  [40480, 40482, 2042, 488, 5122, 11007, 40478, ...  \n",
            "232970  [40480, 40482, 2525, 2417, 10837, 485, 11468, ...  \n",
            "232969  [40480, 40482, 500, 246, 37588, 522, 963, 1719...  \n",
            "232968  [40480, 40482, 7087, 589, 2832, 16126, 1281, 2...  \n",
            "232967  [40480, 40482, 23667, 481, 929, 1979, 16126, 4...  \n",
            "232966  [40480, 40482, 7087, 589, 1281, 488, 2030, 485...  \n",
            "232965  [40480, 40482, 7087, 589, 2832, 16126, 500, 24...  \n",
            "232964  [40480, 40482, 2507, 9689, 240, 9933, 488, 123...  \n",
            "User 1773 has seen 2 recipes.\n",
            "Unseen recipes count: 160899\n",
            "Top predictions: [(4684, 5), (11266, 5), (18308, 5), (28377, 5), (20799, 5), (12563, 5), (72752, 5), (80413, 5), (80996, 5), (95808, 5)]\n",
            "Combined Recommendations Before Filtering:\n",
            "            id                                        name_tokens  \\\n",
            "698900  314535             [40480, 3484, 6878, 556, 22075, 40481]   \n",
            "232963  237196  [40480, 13119, 252, 5867, 5703, 2115, 745, 40481]   \n",
            "232971  167798  [40480, 24, 666, 11007, 3947, 548, 1711, 488, ...   \n",
            "232970  238938  [40480, 2417, 13995, 26855, 556, 36672, 1126, ...   \n",
            "232969   41218  [40480, 10416, 252, 5770, 5239, 24, 931, 245, ...   \n",
            "232968  110683                 [40480, 7927, 22306, 30137, 40481]   \n",
            "232967    4294                 [40480, 16476, 10734, 7087, 40481]   \n",
            "232966    9272                        [40480, 3704, 31843, 40481]   \n",
            "232965  209764  [40480, 566, 5024, 7307, 1286, 1964, 5317, 540...   \n",
            "232964  221809                 [40480, 1122, 24843, 11007, 40481]   \n",
            "26787    80996  [40480, 16178, 253, 1301, 3207, 22230, 488, 25...   \n",
            "45544    28377  [40480, 14420, 247, 2425, 33155, 5867, 8294, 4...   \n",
            "50319    80413    [40480, 16509, 21601, 29042, 5339, 4165, 40481]   \n",
            "70751     4684  [40480, 17364, 11892, 556, 14721, 955, 644, 81...   \n",
            "92246    20799            [40480, 22469, 706, 1411, 11502, 40481]   \n",
            "132039   12563  [40480, 14, 3684, 2250, 531, 611, 265, 1277, 2...   \n",
            "135562   18308          [40480, 12432, 5317, 22992, 25084, 40481]   \n",
            "138435   11266     [40480, 2860, 27338, 16477, 562, 27150, 40481]   \n",
            "144242   95808        [40480, 3511, 504, 531, 4240, 19633, 40481]   \n",
            "163544   72752             [40480, 1393, 1156, 9173, 9021, 40481]   \n",
            "\n",
            "                                        ingredient_tokens  \\\n",
            "698900  [[10444, 6020], [21453], [928, 13569, 6878], [...   \n",
            "232963  [[31801, 918, 15509, 5867, 5355, 21940], [589,...   \n",
            "232971  [[6167, 24, 666, 16201], [12227, 3947, 548, 17...   \n",
            "232970  [[2417, 10837], [8780], [6444], [6953], [6812]...   \n",
            "232969  [[25818, 29428], [19811], [978, 4178, 11332], ...   \n",
            "232968  [[6812], [5940], [17869, 6020], [589, 260, 400...   \n",
            "232967  [[9230, 789, 607], [6167, 21453], [6167, 734, ...   \n",
            "232966  [[19811], [19414], [2056, 28062], [28, 14769, ...   \n",
            "232965  [[7307, 1286, 260, 1964, 17918], [20613], [644...   \n",
            "232964  [[9689], [1430, 11434], [21453], [2507, 6444],...   \n",
            "26787   [[1301, 260, 3207, 22075], [15022], [19414], [...   \n",
            "45544   [[38634, 31433], [31801, 918, 15509, 5867, 628...   \n",
            "50319   [[5940], [8441], [8780], [1454, 6444], [6953],...   \n",
            "70751   [[17364, 21170], [4017], [955, 644, 818, 955, ...   \n",
            "92246   [[22469, 21170], [17918], [6953, 488, 11332], ...   \n",
            "132039  [[1924, 611, 265, 1277, 253], [14368, 6020], [...   \n",
            "135562  [[8780], [563, 2654, 5581, 5317], [6444], [681...   \n",
            "138435  [[15022], [1353], [3319, 6949, 6953], [1301, 2...   \n",
            "144242  [[4240, 25227], [14368, 8780], [4017], [27593]...   \n",
            "163544  [[589, 260, 4001, 17918], [15473, 8361], [1547...   \n",
            "\n",
            "                                             steps_tokens  \n",
            "698900  [40480, 40482, 2525, 6020, 500, 1719, 28058, 5...  \n",
            "232963  [40480, 40482, 556, 246, 5089, 29969, 240, 793...  \n",
            "232971  [40480, 40482, 2042, 488, 5122, 11007, 40478, ...  \n",
            "232970  [40480, 40482, 2525, 2417, 10837, 485, 11468, ...  \n",
            "232969  [40480, 40482, 500, 246, 37588, 522, 963, 1719...  \n",
            "232968  [40480, 40482, 7087, 589, 2832, 16126, 1281, 2...  \n",
            "232967  [40480, 40482, 23667, 481, 929, 1979, 16126, 4...  \n",
            "232966  [40480, 40482, 7087, 589, 1281, 488, 2030, 485...  \n",
            "232965  [40480, 40482, 7087, 589, 2832, 16126, 500, 24...  \n",
            "232964  [40480, 40482, 2507, 9689, 240, 9933, 488, 123...  \n",
            "26787   [40480, 40482, 23667, 589, 16126, 500, 246, 50...  \n",
            "45544   [40480, 40482, 15207, 20836, 500, 963, 1845, 7...  \n",
            "50319   [40480, 40482, 1082, 589, 16126, 240, 2303, 87...  \n",
            "70751   [40480, 40482, 7087, 4017, 556, 955, 2763, 240...  \n",
            "92246   [40480, 40482, 729, 2525, 481, 10906, 485, 43,...  \n",
            "132039  [40480, 40482, 500, 246, 13, 773, 240, 9467, 2...  \n",
            "135562  [40480, 40482, 729, 2525, 10906, 485, 43, 1035...  \n",
            "138435  [40480, 40482, 2030, 589, 16126, 485, 246, 140...  \n",
            "144242  [40480, 40482, 729, 2525, 13444, 40478, 40482,...  \n",
            "163544  [40480, 40482, 2525, 715, 485, 43, 8393, 40478...  \n",
            "Recommendations:\n",
            "            id                                        name_tokens  \\\n",
            "698900  314535             [40480, 3484, 6878, 556, 22075, 40481]   \n",
            "232963  237196  [40480, 13119, 252, 5867, 5703, 2115, 745, 40481]   \n",
            "232971  167798  [40480, 24, 666, 11007, 3947, 548, 1711, 488, ...   \n",
            "232970  238938  [40480, 2417, 13995, 26855, 556, 36672, 1126, ...   \n",
            "232969   41218  [40480, 10416, 252, 5770, 5239, 24, 931, 245, ...   \n",
            "232968  110683                 [40480, 7927, 22306, 30137, 40481]   \n",
            "232967    4294                 [40480, 16476, 10734, 7087, 40481]   \n",
            "232966    9272                        [40480, 3704, 31843, 40481]   \n",
            "232965  209764  [40480, 566, 5024, 7307, 1286, 1964, 5317, 540...   \n",
            "232964  221809                 [40480, 1122, 24843, 11007, 40481]   \n",
            "26787    80996  [40480, 16178, 253, 1301, 3207, 22230, 488, 25...   \n",
            "45544    28377  [40480, 14420, 247, 2425, 33155, 5867, 8294, 4...   \n",
            "50319    80413    [40480, 16509, 21601, 29042, 5339, 4165, 40481]   \n",
            "70751     4684  [40480, 17364, 11892, 556, 14721, 955, 644, 81...   \n",
            "92246    20799            [40480, 22469, 706, 1411, 11502, 40481]   \n",
            "132039   12563  [40480, 14, 3684, 2250, 531, 611, 265, 1277, 2...   \n",
            "135562   18308          [40480, 12432, 5317, 22992, 25084, 40481]   \n",
            "138435   11266     [40480, 2860, 27338, 16477, 562, 27150, 40481]   \n",
            "144242   95808        [40480, 3511, 504, 531, 4240, 19633, 40481]   \n",
            "163544   72752             [40480, 1393, 1156, 9173, 9021, 40481]   \n",
            "\n",
            "                                        ingredient_tokens  \\\n",
            "698900  [[10444, 6020], [21453], [928, 13569, 6878], [...   \n",
            "232963  [[31801, 918, 15509, 5867, 5355, 21940], [589,...   \n",
            "232971  [[6167, 24, 666, 16201], [12227, 3947, 548, 17...   \n",
            "232970  [[2417, 10837], [8780], [6444], [6953], [6812]...   \n",
            "232969  [[25818, 29428], [19811], [978, 4178, 11332], ...   \n",
            "232968  [[6812], [5940], [17869, 6020], [589, 260, 400...   \n",
            "232967  [[9230, 789, 607], [6167, 21453], [6167, 734, ...   \n",
            "232966  [[19811], [19414], [2056, 28062], [28, 14769, ...   \n",
            "232965  [[7307, 1286, 260, 1964, 17918], [20613], [644...   \n",
            "232964  [[9689], [1430, 11434], [21453], [2507, 6444],...   \n",
            "26787   [[1301, 260, 3207, 22075], [15022], [19414], [...   \n",
            "45544   [[38634, 31433], [31801, 918, 15509, 5867, 628...   \n",
            "50319   [[5940], [8441], [8780], [1454, 6444], [6953],...   \n",
            "70751   [[17364, 21170], [4017], [955, 644, 818, 955, ...   \n",
            "92246   [[22469, 21170], [17918], [6953, 488, 11332], ...   \n",
            "132039  [[1924, 611, 265, 1277, 253], [14368, 6020], [...   \n",
            "135562  [[8780], [563, 2654, 5581, 5317], [6444], [681...   \n",
            "138435  [[15022], [1353], [3319, 6949, 6953], [1301, 2...   \n",
            "144242  [[4240, 25227], [14368, 8780], [4017], [27593]...   \n",
            "163544  [[589, 260, 4001, 17918], [15473, 8361], [1547...   \n",
            "\n",
            "                                             steps_tokens  \n",
            "698900  [40480, 40482, 2525, 6020, 500, 1719, 28058, 5...  \n",
            "232963  [40480, 40482, 556, 246, 5089, 29969, 240, 793...  \n",
            "232971  [40480, 40482, 2042, 488, 5122, 11007, 40478, ...  \n",
            "232970  [40480, 40482, 2525, 2417, 10837, 485, 11468, ...  \n",
            "232969  [40480, 40482, 500, 246, 37588, 522, 963, 1719...  \n",
            "232968  [40480, 40482, 7087, 589, 2832, 16126, 1281, 2...  \n",
            "232967  [40480, 40482, 23667, 481, 929, 1979, 16126, 4...  \n",
            "232966  [40480, 40482, 7087, 589, 1281, 488, 2030, 485...  \n",
            "232965  [40480, 40482, 7087, 589, 2832, 16126, 500, 24...  \n",
            "232964  [40480, 40482, 2507, 9689, 240, 9933, 488, 123...  \n",
            "26787   [40480, 40482, 23667, 589, 16126, 500, 246, 50...  \n",
            "45544   [40480, 40482, 15207, 20836, 500, 963, 1845, 7...  \n",
            "50319   [40480, 40482, 1082, 589, 16126, 240, 2303, 87...  \n",
            "70751   [40480, 40482, 7087, 4017, 556, 955, 2763, 240...  \n",
            "92246   [40480, 40482, 729, 2525, 481, 10906, 485, 43,...  \n",
            "132039  [40480, 40482, 500, 246, 13, 773, 240, 9467, 2...  \n",
            "135562  [40480, 40482, 729, 2525, 10906, 485, 43, 1035...  \n",
            "138435  [40480, 40482, 2030, 589, 16126, 485, 246, 140...  \n",
            "144242  [40480, 40482, 729, 2525, 13444, 40478, 40482,...  \n",
            "163544  [40480, 40482, 2525, 715, 485, 43, 8393, 40478...  \n"
          ]
        }
      ]
    }
  ]
}